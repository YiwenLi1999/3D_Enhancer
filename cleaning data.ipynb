{
 "cells": [
  {
   "cell_type": "markdown",
   "id": "20e014c4",
   "metadata": {},
   "source": [
    "## Cleaning data\n",
    "\n",
    "This notebook is used to unify the size of training images, and get them match in number, save them into a specified folder."
   ]
  },
  {
   "cell_type": "code",
   "execution_count": 1,
   "id": "08890115",
   "metadata": {},
   "outputs": [
    {
     "name": "stdout",
     "output_type": "stream",
     "text": [
      "Requirement already satisfied: Pillow in /Users/liyiwen/miniforge3/envs/tf_m1/lib/python3.8/site-packages (8.4.0)\r\n"
     ]
    }
   ],
   "source": [
    "import cv2\n",
    "import os\n",
    "import numpy as np\n",
    "from tensorflow.keras.preprocessing.image import load_img, img_to_array\n",
    "!pip install Pillow\n",
    "import PIL\n",
    "from PIL import Image"
   ]
  },
  {
   "cell_type": "code",
   "execution_count": 2,
   "id": "ae21bfe1",
   "metadata": {},
   "outputs": [],
   "source": [
    "path = r'/Users/liyiwen/Desktop/study/leaf/images'\n",
    "dirc = r'/Users/liyiwen/Desktop/study/leaf_small/'\n",
    "img = cv2.imread(path)\n"
   ]
  },
  {
   "cell_type": "code",
   "execution_count": 3,
   "id": "ad2fe103",
   "metadata": {},
   "outputs": [
    {
     "data": {
      "text/plain": [
       "(6192, 128, 128, 3)"
      ]
     },
     "execution_count": 3,
     "metadata": {},
     "output_type": "execute_result"
    }
   ],
   "source": [
    "file_type = '.jpg'\n",
    "img_height = 128\n",
    "img_width = 128\n",
    "path_to_images = path\n",
    "path_1 = []\n",
    "for root, dirs, files in os.walk(path_to_images, topdown=False):\n",
    "    for name in files:\n",
    "        if file_type in name.lower():\n",
    "            path_1.append(str(os.path.join(root, name)))\n",
    "            \n",
    "dataset = [np.array(img_to_array(load_img(i,target_size=((img_height,img_width)))))/255.0 for i in path_1]\n",
    "dataset = np.array(dataset).astype(\"float32\")\n",
    "dataset.shape"
   ]
  },
  {
   "cell_type": "code",
   "execution_count": 4,
   "id": "b4b41f0f",
   "metadata": {},
   "outputs": [
    {
     "data": {
      "text/plain": [
       "(1000, 128, 128, 3)"
      ]
     },
     "execution_count": 4,
     "metadata": {},
     "output_type": "execute_result"
    }
   ],
   "source": [
    "dataset = dataset[:1000]\n",
    "dataset.shape"
   ]
  },
  {
   "cell_type": "code",
   "execution_count": 5,
   "id": "daebd402",
   "metadata": {},
   "outputs": [],
   "source": [
    "def to_image(data):\n",
    "    data = np.array(data) * 255\n",
    "    data_1 = data.astype(np.uint8)\n",
    "    data_2 = Image.fromarray(data_1)\n",
    "    return data_2\n"
   ]
  },
  {
   "cell_type": "code",
   "execution_count": 6,
   "id": "42594cee",
   "metadata": {},
   "outputs": [],
   "source": [
    "for i in range(dataset.shape[0]):\n",
    "    image = to_image(dataset[i])\n",
    "    image.save(dirc+str(i)+file_type)\n",
    "    "
   ]
  }
 ],
 "metadata": {
  "kernelspec": {
   "display_name": "Python 3 (ipykernel)",
   "language": "python",
   "name": "python3"
  },
  "language_info": {
   "codemirror_mode": {
    "name": "ipython",
    "version": 3
   },
   "file_extension": ".py",
   "mimetype": "text/x-python",
   "name": "python",
   "nbconvert_exporter": "python",
   "pygments_lexer": "ipython3",
   "version": "3.8.12"
  }
 },
 "nbformat": 4,
 "nbformat_minor": 5
}
